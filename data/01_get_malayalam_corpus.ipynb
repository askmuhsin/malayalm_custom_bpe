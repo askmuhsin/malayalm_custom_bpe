{
 "cells": [
  {
   "cell_type": "code",
   "execution_count": null,
   "metadata": {},
   "outputs": [],
   "source": [
    "%load_ext autoreload\n",
    "%autoreload 2"
   ]
  },
  {
   "cell_type": "code",
   "execution_count": 1,
   "metadata": {},
   "outputs": [],
   "source": [
    "import os\n",
    "import requests\n",
    "import tarfile\n"
   ]
  },
  {
   "cell_type": "code",
   "execution_count": null,
   "metadata": {},
   "outputs": [],
   "source": [
    "url = 'https://github.com/smc/corpus/archive/refs/heads/master.tar.gz'\n",
    "download_path = 'malayalam_corpus.tar.gz'\n",
    "\n",
    "# Directory to extract the corpus\n",
    "extract_dir = 'malayalam_corpus'\n",
    "\n",
    "# Download the file\n",
    "response = requests.get(url, stream=True)\n",
    "response.raise_for_status()\n",
    "\n",
    "with open(download_path, 'wb') as file:\n",
    "    for chunk in response.iter_content(chunk_size=8192):\n",
    "        file.write(chunk)\n",
    "\n",
    "# Extract the tar.gz file\n",
    "with tarfile.open(download_path, 'r:gz') as tar:\n",
    "    tar.extractall(path=extract_dir)\n",
    "\n",
    "# Remove the downloaded tar.gz file\n",
    "os.remove(download_path)\n",
    "\n",
    "print(f'Corpus downloaded and extracted to {extract_dir}')\n"
   ]
  }
 ],
 "metadata": {
  "kernelspec": {
   "display_name": "dev_base",
   "language": "python",
   "name": "python3"
  },
  "language_info": {
   "codemirror_mode": {
    "name": "ipython",
    "version": 3
   },
   "file_extension": ".py",
   "mimetype": "text/x-python",
   "name": "python",
   "nbconvert_exporter": "python",
   "pygments_lexer": "ipython3",
   "version": "3.11.5"
  }
 },
 "nbformat": 4,
 "nbformat_minor": 2
}
