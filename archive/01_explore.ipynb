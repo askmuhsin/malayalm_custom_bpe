{
 "cells": [
  {
   "cell_type": "code",
   "execution_count": null,
   "metadata": {},
   "outputs": [],
   "source": [
    "%load_ext autoreload\n",
    "%autoreload 2"
   ]
  },
  {
   "cell_type": "code",
   "execution_count": null,
   "metadata": {},
   "outputs": [],
   "source": [
    "tinyshakespeare_input_txt_path = './input.txt'\n",
    "tinyshakespeare_input_txt = open(tinyshakespeare_input_txt_path).read()\n",
    "print(tinyshakespeare_input_txt[:100])"
   ]
  },
  {
   "cell_type": "code",
   "execution_count": null,
   "metadata": {},
   "outputs": [],
   "source": [
    "num_of_words = len(tinyshakespeare_input_txt.split())\n",
    "print(num_of_words)"
   ]
  },
  {
   "cell_type": "code",
   "execution_count": null,
   "metadata": {},
   "outputs": [],
   "source": [
    "unique_chars = sorted(set(tinyshakespeare_input_txt))\n",
    "print(unique_chars)\n",
    "print(len(unique_chars))\n",
    "''.join(unique_chars)"
   ]
  },
  {
   "cell_type": "code",
   "execution_count": null,
   "metadata": {},
   "outputs": [],
   "source": [
    "stoi = {ch:i for i,ch in enumerate(unique_chars)}\n",
    "itos = {i:ch for i,ch in enumerate(unique_chars)}\n",
    "\n",
    "stoi"
   ]
  },
  {
   "cell_type": "code",
   "execution_count": null,
   "metadata": {},
   "outputs": [],
   "source": [
    "itos"
   ]
  },
  {
   "cell_type": "code",
   "execution_count": null,
   "metadata": {},
   "outputs": [],
   "source": [
    "encode = lambda s: [stoi[c] for c in s]  # noqa: E731\n",
    "decode = lambda l: ''.join([itos[i] for i in l])  # noqa: E731\n"
   ]
  },
  {
   "cell_type": "code",
   "execution_count": null,
   "metadata": {},
   "outputs": [],
   "source": [
    "encode('First Citizen:')"
   ]
  },
  {
   "cell_type": "code",
   "execution_count": null,
   "metadata": {},
   "outputs": [],
   "source": [
    "decode(encode('First Citizen:'))"
   ]
  },
  {
   "cell_type": "code",
   "execution_count": null,
   "metadata": {},
   "outputs": [],
   "source": [
    "import torch\n"
   ]
  },
  {
   "cell_type": "code",
   "execution_count": null,
   "metadata": {},
   "outputs": [],
   "source": [
    "data = torch.tensor(encode(tinyshakespeare_input_txt), dtype=torch.long)\n",
    "print(data.shape, data.dtype)"
   ]
  },
  {
   "cell_type": "code",
   "execution_count": null,
   "metadata": {},
   "outputs": [],
   "source": [
    "def torch_encoder(s):\n",
    "    return torch.tensor(encode(s), dtype=torch.long)\n",
    "\n",
    "def torch_decoder(l):\n",
    "    return decode(l.numpy())"
   ]
  },
  {
   "cell_type": "code",
   "execution_count": null,
   "metadata": {},
   "outputs": [],
   "source": [
    "torch_encoder('hi there ... ')"
   ]
  },
  {
   "cell_type": "code",
   "execution_count": null,
   "metadata": {},
   "outputs": [],
   "source": [
    "torch_decoder(torch_encoder('hi there ... '))"
   ]
  },
  {
   "cell_type": "code",
   "execution_count": null,
   "metadata": {},
   "outputs": [],
   "source": [
    "## start with utf8\n",
    "# byte pair\n"
   ]
  },
  {
   "cell_type": "code",
   "execution_count": null,
   "metadata": {},
   "outputs": [],
   "source": [
    "1024**0.5"
   ]
  },
  {
   "cell_type": "code",
   "execution_count": null,
   "metadata": {},
   "outputs": [],
   "source": [
    "unicode_txt_file_path = './unicode.txt'\n",
    "sample_txt = open(unicode_txt_file_path).read()\n",
    "print(sample_txt[:100])"
   ]
  },
  {
   "cell_type": "code",
   "execution_count": null,
   "metadata": {},
   "outputs": [],
   "source": [
    "sample_encoded_u8 = list(map(int, sample_txt.encode('utf-8')))\n",
    "len(sample_encoded_u8)"
   ]
  },
  {
   "cell_type": "code",
   "execution_count": null,
   "metadata": {},
   "outputs": [],
   "source": [
    "from collections import Counter"
   ]
  },
  {
   "cell_type": "code",
   "execution_count": null,
   "metadata": {},
   "outputs": [],
   "source": [
    "sample_txt_pair_stats = Counter()\n",
    "for a, b in zip(sample_encoded_u8, sample_encoded_u8[1:]):\n",
    "    # print(a, b)\n",
    "    # print(chr(a), chr(b))\n",
    "    sample_txt_pair_stats[(a, b)] += 1"
   ]
  },
  {
   "cell_type": "code",
   "execution_count": null,
   "metadata": {},
   "outputs": [],
   "source": [
    "sample_txt_pair_stats.most_common(1)"
   ]
  },
  {
   "cell_type": "code",
   "execution_count": null,
   "metadata": {},
   "outputs": [],
   "source": [
    "chr(116), chr(32)"
   ]
  },
  {
   "cell_type": "code",
   "execution_count": null,
   "metadata": {},
   "outputs": [],
   "source": [
    "def get_most_common_pairs(encoded_u8: list[int]) -> tuple[int, int]:\n",
    "    sample_txt_pair_stats = Counter()\n",
    "    for a, b in zip(encoded_u8, encoded_u8[1:]):\n",
    "        sample_txt_pair_stats[(a, b)] += 1\n",
    "    return sample_txt_pair_stats.most_common(1)[0][0]\n",
    "\n",
    "\n",
    "def merge(encoded_u8: list[int], pair: tuple[int, int], new_char: int) -> list[int]:\n",
    "    result = []\n",
    "    for a, b in zip(encoded_u8, encoded_u8[1:]):\n",
    "        if (a, b) == pair:\n",
    "            result.append(new_char)\n",
    "        else:\n",
    "            result.append(a)\n",
    "    result.append(new_char)\n",
    "    return result"
   ]
  },
  {
   "cell_type": "code",
   "execution_count": null,
   "metadata": {},
   "outputs": [],
   "source": [
    "text = \"My-name is Muhsin, my home Is In KL, My favorite_color is blue\"\n",
    "encoded_u8 = list(map(int, text.encode('utf-8')))\n",
    "most_common_pair = get_most_common_pairs(encoded_u8)\n",
    "print(most_common_pair)\n",
    "print(chr(most_common_pair[0]), chr(most_common_pair[1]), sep='')\n"
   ]
  },
  {
   "cell_type": "code",
   "execution_count": null,
   "metadata": {},
   "outputs": [],
   "source": [
    "bin(256)"
   ]
  },
  {
   "cell_type": "code",
   "execution_count": null,
   "metadata": {},
   "outputs": [],
   "source": [
    "int('11111111', 2)"
   ]
  },
  {
   "cell_type": "code",
   "execution_count": null,
   "metadata": {},
   "outputs": [],
   "source": [
    "vocab_size = 300\n",
    "num_merges = vocab_size - 256\n",
    "ids = "
   ]
  },
  {
   "cell_type": "code",
   "execution_count": null,
   "metadata": {},
   "outputs": [],
   "source": [
    "! wget wget https://openaipublic.blob.core.windows.net/gpt-2/models/1558M/vocab.bpe\n"
   ]
  },
  {
   "cell_type": "code",
   "execution_count": null,
   "metadata": {},
   "outputs": [],
   "source": [
    "! wget wget https://openaipublic.blob.core.windows.net/gpt-2/models/1558M/encoder.json\n",
    "\n",
    "\n",
    "\n",
    "\n",
    "\n"
   ]
  },
  {
   "cell_type": "code",
   "execution_count": null,
   "metadata": {},
   "outputs": [],
   "source": []
  },
  {
   "cell_type": "markdown",
   "metadata": {},
   "source": []
  }
 ],
 "metadata": {
  "kernelspec": {
   "display_name": "dev_base",
   "language": "python",
   "name": "python3"
  },
  "language_info": {
   "codemirror_mode": {
    "name": "ipython",
    "version": 3
   },
   "file_extension": ".py",
   "mimetype": "text/x-python",
   "name": "python",
   "nbconvert_exporter": "python",
   "pygments_lexer": "ipython3",
   "version": "3.11.5"
  }
 },
 "nbformat": 4,
 "nbformat_minor": 2
}
