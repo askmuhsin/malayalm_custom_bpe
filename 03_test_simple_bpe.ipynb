{
 "cells": [
  {
   "cell_type": "code",
   "execution_count": 21,
   "metadata": {},
   "outputs": [
    {
     "name": "stdout",
     "output_type": "stream",
     "text": [
      "The autoreload extension is already loaded. To reload it, use:\n",
      "  %reload_ext autoreload\n"
     ]
    }
   ],
   "source": [
    "%load_ext autoreload\n",
    "%autoreload 2"
   ]
  },
  {
   "cell_type": "code",
   "execution_count": 22,
   "metadata": {},
   "outputs": [],
   "source": [
    "import logging\n",
    "\n",
    "logging.basicConfig(level=logging.DEBUG)"
   ]
  },
  {
   "cell_type": "code",
   "execution_count": 32,
   "metadata": {},
   "outputs": [],
   "source": [
    "from simple_bpe import encode_text, get_most_common_pair, merge_pair, learn_bpe, tokenize, decode_tokens\n"
   ]
  },
  {
   "cell_type": "code",
   "execution_count": 24,
   "metadata": {},
   "outputs": [],
   "source": [
    "sample_text = \"This is a sample text for testing the simple BPE algorithm. and ofcourse it contains rare unicode characters like 🤡 and .. ? ˚\"\n"
   ]
  },
  {
   "cell_type": "code",
   "execution_count": 25,
   "metadata": {},
   "outputs": [
    {
     "name": "stderr",
     "output_type": "stream",
     "text": [
      "DEBUG:simple_bpe:Encoded text length: 126 -> 130 bytes\n"
     ]
    },
    {
     "data": {
      "text/plain": [
       "130"
      ]
     },
     "execution_count": 25,
     "metadata": {},
     "output_type": "execute_result"
    }
   ],
   "source": [
    "sample_text_encoded = encode_text(sample_text)\n",
    "len(sample_text_encoded)"
   ]
  },
  {
   "cell_type": "code",
   "execution_count": 26,
   "metadata": {},
   "outputs": [
    {
     "name": "stderr",
     "output_type": "stream",
     "text": [
      "DEBUG:simple_bpe:Most common pair: ((101, 32), 7)\n"
     ]
    },
    {
     "data": {
      "text/plain": [
       "(101, 32)"
      ]
     },
     "execution_count": 26,
     "metadata": {},
     "output_type": "execute_result"
    }
   ],
   "source": [
    "get_most_common_pair(sample_text_encoded)"
   ]
  },
  {
   "cell_type": "code",
   "execution_count": 27,
   "metadata": {},
   "outputs": [
    {
     "name": "stderr",
     "output_type": "stream",
     "text": [
      "DEBUG:simple_bpe:Merged (101, 32) -> 256, new length: 3\n"
     ]
    },
    {
     "data": {
      "text/plain": [
       "[0, 256, 1]"
      ]
     },
     "execution_count": 27,
     "metadata": {},
     "output_type": "execute_result"
    }
   ],
   "source": [
    "merge_pair([0, 101, 32, 1], (101, 32), 256)"
   ]
  },
  {
   "cell_type": "code",
   "execution_count": 28,
   "metadata": {},
   "outputs": [
    {
     "name": "stderr",
     "output_type": "stream",
     "text": [
      "INFO:simple_bpe:Starting BPE learning on text of length 126\n",
      "DEBUG:simple_bpe:Encoded text length: 126 -> 130 bytes\n",
      "DEBUG:simple_bpe:Most common pair: ((101, 32), 7)\n",
      "DEBUG:simple_bpe:Merged (101, 32) -> 256, new length: 123\n",
      "INFO:simple_bpe:Merge 1: (101, 32) -> 256, sequence length: 123\n",
      "DEBUG:simple_bpe:Most common pair: ((115, 32), 4)\n",
      "DEBUG:simple_bpe:Merged (115, 32) -> 257, new length: 119\n",
      "INFO:simple_bpe:Merge 2: (115, 32) -> 257, sequence length: 119\n",
      "DEBUG:simple_bpe:Most common pair: ((116, 101), 3)\n",
      "DEBUG:simple_bpe:Merged (116, 101) -> 258, new length: 116\n",
      "INFO:simple_bpe:Merge 3: (116, 101) -> 258, sequence length: 116\n",
      "DEBUG:simple_bpe:Most common pair: ((32, 97), 3)\n",
      "DEBUG:simple_bpe:Merged (32, 97) -> 259, new length: 113\n",
      "INFO:simple_bpe:Merge 4: (32, 97) -> 259, sequence length: 113\n",
      "DEBUG:simple_bpe:Most common pair: ((99, 111), 3)\n",
      "DEBUG:simple_bpe:Merged (99, 111) -> 260, new length: 110\n",
      "INFO:simple_bpe:Merge 5: (99, 111) -> 260, sequence length: 110\n",
      "DEBUG:simple_bpe:Most common pair: ((105, 257), 2)\n",
      "DEBUG:simple_bpe:Merged (105, 257) -> 261, new length: 108\n",
      "INFO:simple_bpe:Merge 6: (105, 257) -> 261, sequence length: 108\n",
      "DEBUG:simple_bpe:Most common pair: ((109, 112), 2)\n",
      "DEBUG:simple_bpe:Merged (109, 112) -> 262, new length: 106\n",
      "INFO:simple_bpe:Merge 7: (109, 112) -> 262, sequence length: 106\n",
      "DEBUG:simple_bpe:Most common pair: ((262, 108), 2)\n",
      "DEBUG:simple_bpe:Merged (262, 108) -> 263, new length: 104\n",
      "INFO:simple_bpe:Merge 8: (262, 108) -> 263, sequence length: 104\n",
      "DEBUG:simple_bpe:Most common pair: ((263, 256), 2)\n",
      "DEBUG:simple_bpe:Merged (263, 256) -> 264, new length: 102\n",
      "INFO:simple_bpe:Merge 9: (263, 256) -> 264, sequence length: 102\n",
      "DEBUG:simple_bpe:Most common pair: ((116, 32), 2)\n",
      "DEBUG:simple_bpe:Merged (116, 32) -> 265, new length: 100\n",
      "INFO:simple_bpe:Merge 10: (116, 32) -> 265, sequence length: 100\n",
      "DEBUG:simple_bpe:Most common pair: ((111, 114), 2)\n",
      "DEBUG:simple_bpe:Merged (111, 114) -> 266, new length: 98\n",
      "INFO:simple_bpe:Merge 11: (111, 114) -> 266, sequence length: 98\n",
      "DEBUG:simple_bpe:Most common pair: ((105, 110), 2)\n",
      "DEBUG:simple_bpe:Merged (105, 110) -> 267, new length: 96\n",
      "INFO:simple_bpe:Merge 12: (105, 110) -> 267, sequence length: 96\n",
      "DEBUG:simple_bpe:Most common pair: ((116, 104), 2)\n",
      "DEBUG:simple_bpe:Merged (116, 104) -> 268, new length: 94\n",
      "INFO:simple_bpe:Merge 13: (116, 104) -> 268, sequence length: 94\n",
      "DEBUG:simple_bpe:Most common pair: ((259, 110), 2)\n",
      "DEBUG:simple_bpe:Merged (259, 110) -> 269, new length: 92\n",
      "INFO:simple_bpe:Merge 14: (259, 110) -> 269, sequence length: 92\n",
      "DEBUG:simple_bpe:Most common pair: ((269, 100), 2)\n",
      "DEBUG:simple_bpe:Merged (269, 100) -> 270, new length: 90\n",
      "INFO:simple_bpe:Merge 15: (269, 100) -> 270, sequence length: 90\n",
      "DEBUG:simple_bpe:Most common pair: ((270, 32), 2)\n",
      "DEBUG:simple_bpe:Merged (270, 32) -> 271, new length: 88\n",
      "INFO:simple_bpe:Merge 16: (270, 32) -> 271, sequence length: 88\n",
      "DEBUG:simple_bpe:Most common pair: ((114, 97), 2)\n",
      "DEBUG:simple_bpe:Merged (114, 97) -> 272, new length: 86\n",
      "INFO:simple_bpe:Merge 17: (114, 97) -> 272, sequence length: 86\n",
      "DEBUG:simple_bpe:Most common pair: ((84, 104), 1)\n",
      "DEBUG:simple_bpe:Merged (84, 104) -> 273, new length: 85\n",
      "INFO:simple_bpe:Merge 18: (84, 104) -> 273, sequence length: 85\n",
      "DEBUG:simple_bpe:Most common pair: ((273, 261), 1)\n",
      "DEBUG:simple_bpe:Merged (273, 261) -> 274, new length: 84\n",
      "INFO:simple_bpe:Merge 19: (273, 261) -> 274, sequence length: 84\n",
      "DEBUG:simple_bpe:Most common pair: ((274, 261), 1)\n",
      "DEBUG:simple_bpe:Merged (274, 261) -> 275, new length: 83\n",
      "INFO:simple_bpe:Merge 20: (274, 261) -> 275, sequence length: 83\n",
      "DEBUG:simple_bpe:Most common pair: ((275, 97), 1)\n",
      "DEBUG:simple_bpe:Merged (275, 97) -> 276, new length: 82\n",
      "INFO:simple_bpe:Merge 21: (275, 97) -> 276, sequence length: 82\n",
      "DEBUG:simple_bpe:Most common pair: ((276, 32), 1)\n",
      "DEBUG:simple_bpe:Merged (276, 32) -> 277, new length: 81\n",
      "INFO:simple_bpe:Merge 22: (276, 32) -> 277, sequence length: 81\n",
      "DEBUG:simple_bpe:Most common pair: ((277, 115), 1)\n",
      "DEBUG:simple_bpe:Merged (277, 115) -> 278, new length: 80\n",
      "INFO:simple_bpe:Merge 23: (277, 115) -> 278, sequence length: 80\n",
      "DEBUG:simple_bpe:Most common pair: ((278, 97), 1)\n",
      "DEBUG:simple_bpe:Merged (278, 97) -> 279, new length: 79\n",
      "INFO:simple_bpe:Merge 24: (278, 97) -> 279, sequence length: 79\n",
      "DEBUG:simple_bpe:Most common pair: ((279, 264), 1)\n",
      "DEBUG:simple_bpe:Merged (279, 264) -> 280, new length: 78\n",
      "INFO:simple_bpe:Merge 25: (279, 264) -> 280, sequence length: 78\n",
      "DEBUG:simple_bpe:Most common pair: ((280, 258), 1)\n",
      "DEBUG:simple_bpe:Merged (280, 258) -> 281, new length: 77\n",
      "INFO:simple_bpe:Merge 26: (280, 258) -> 281, sequence length: 77\n",
      "DEBUG:simple_bpe:Most common pair: ((281, 120), 1)\n",
      "DEBUG:simple_bpe:Merged (281, 120) -> 282, new length: 76\n",
      "INFO:simple_bpe:Merge 27: (281, 120) -> 282, sequence length: 76\n",
      "DEBUG:simple_bpe:Most common pair: ((282, 265), 1)\n",
      "DEBUG:simple_bpe:Merged (282, 265) -> 283, new length: 75\n",
      "INFO:simple_bpe:Merge 28: (282, 265) -> 283, sequence length: 75\n",
      "DEBUG:simple_bpe:Most common pair: ((283, 102), 1)\n",
      "DEBUG:simple_bpe:Merged (283, 102) -> 284, new length: 74\n",
      "INFO:simple_bpe:Merge 29: (283, 102) -> 284, sequence length: 74\n",
      "DEBUG:simple_bpe:Most common pair: ((284, 266), 1)\n",
      "DEBUG:simple_bpe:Merged (284, 266) -> 285, new length: 73\n",
      "INFO:simple_bpe:Merge 30: (284, 266) -> 285, sequence length: 73\n",
      "DEBUG:simple_bpe:Most common pair: ((285, 32), 1)\n",
      "DEBUG:simple_bpe:Merged (285, 32) -> 286, new length: 72\n",
      "INFO:simple_bpe:Merge 31: (285, 32) -> 286, sequence length: 72\n",
      "DEBUG:simple_bpe:Most common pair: ((286, 258), 1)\n",
      "DEBUG:simple_bpe:Merged (286, 258) -> 287, new length: 71\n",
      "INFO:simple_bpe:Merge 32: (286, 258) -> 287, sequence length: 71\n",
      "DEBUG:simple_bpe:Most common pair: ((287, 115), 1)\n",
      "DEBUG:simple_bpe:Merged (287, 115) -> 288, new length: 70\n",
      "INFO:simple_bpe:Merge 33: (287, 115) -> 288, sequence length: 70\n",
      "DEBUG:simple_bpe:Most common pair: ((288, 116), 1)\n",
      "DEBUG:simple_bpe:Merged (288, 116) -> 289, new length: 69\n",
      "INFO:simple_bpe:Merge 34: (288, 116) -> 289, sequence length: 69\n",
      "DEBUG:simple_bpe:Most common pair: ((289, 267), 1)\n",
      "DEBUG:simple_bpe:Merged (289, 267) -> 290, new length: 68\n",
      "INFO:simple_bpe:Merge 35: (289, 267) -> 290, sequence length: 68\n",
      "DEBUG:simple_bpe:Most common pair: ((290, 103), 1)\n",
      "DEBUG:simple_bpe:Merged (290, 103) -> 291, new length: 67\n",
      "INFO:simple_bpe:Merge 36: (290, 103) -> 291, sequence length: 67\n",
      "DEBUG:simple_bpe:Most common pair: ((291, 32), 1)\n",
      "DEBUG:simple_bpe:Merged (291, 32) -> 292, new length: 66\n",
      "INFO:simple_bpe:Merge 37: (291, 32) -> 292, sequence length: 66\n",
      "DEBUG:simple_bpe:Most common pair: ((292, 268), 1)\n",
      "DEBUG:simple_bpe:Merged (292, 268) -> 293, new length: 65\n",
      "INFO:simple_bpe:Merge 38: (292, 268) -> 293, sequence length: 65\n",
      "DEBUG:simple_bpe:Most common pair: ((293, 256), 1)\n",
      "DEBUG:simple_bpe:Merged (293, 256) -> 294, new length: 64\n",
      "INFO:simple_bpe:Merge 39: (293, 256) -> 294, sequence length: 64\n",
      "DEBUG:simple_bpe:Most common pair: ((294, 115), 1)\n",
      "DEBUG:simple_bpe:Merged (294, 115) -> 295, new length: 63\n",
      "INFO:simple_bpe:Merge 40: (294, 115) -> 295, sequence length: 63\n",
      "DEBUG:simple_bpe:Most common pair: ((295, 105), 1)\n",
      "DEBUG:simple_bpe:Merged (295, 105) -> 296, new length: 62\n",
      "INFO:simple_bpe:Merge 41: (295, 105) -> 296, sequence length: 62\n",
      "DEBUG:simple_bpe:Most common pair: ((296, 264), 1)\n",
      "DEBUG:simple_bpe:Merged (296, 264) -> 297, new length: 61\n",
      "INFO:simple_bpe:Merge 42: (296, 264) -> 297, sequence length: 61\n",
      "DEBUG:simple_bpe:Most common pair: ((297, 66), 1)\n",
      "DEBUG:simple_bpe:Merged (297, 66) -> 298, new length: 60\n",
      "INFO:simple_bpe:Merge 43: (297, 66) -> 298, sequence length: 60\n",
      "DEBUG:simple_bpe:Most common pair: ((298, 80), 1)\n",
      "DEBUG:simple_bpe:Merged (298, 80) -> 299, new length: 59\n",
      "INFO:simple_bpe:Merge 44: (298, 80) -> 299, sequence length: 59\n",
      "DEBUG:simple_bpe:Most common pair: ((299, 69), 1)\n",
      "DEBUG:simple_bpe:Merged (299, 69) -> 300, new length: 58\n",
      "INFO:simple_bpe:Merge 45: (299, 69) -> 300, sequence length: 58\n",
      "DEBUG:simple_bpe:Most common pair: ((300, 259), 1)\n",
      "DEBUG:simple_bpe:Merged (300, 259) -> 301, new length: 57\n",
      "INFO:simple_bpe:Merge 46: (300, 259) -> 301, sequence length: 57\n",
      "DEBUG:simple_bpe:Most common pair: ((301, 108), 1)\n",
      "DEBUG:simple_bpe:Merged (301, 108) -> 302, new length: 56\n",
      "INFO:simple_bpe:Merge 47: (301, 108) -> 302, sequence length: 56\n",
      "DEBUG:simple_bpe:Most common pair: ((302, 103), 1)\n",
      "DEBUG:simple_bpe:Merged (302, 103) -> 303, new length: 55\n",
      "INFO:simple_bpe:Merge 48: (302, 103) -> 303, sequence length: 55\n",
      "DEBUG:simple_bpe:Most common pair: ((303, 266), 1)\n",
      "DEBUG:simple_bpe:Merged (303, 266) -> 304, new length: 54\n",
      "INFO:simple_bpe:Merge 49: (303, 266) -> 304, sequence length: 54\n",
      "DEBUG:simple_bpe:Most common pair: ((304, 105), 1)\n",
      "DEBUG:simple_bpe:Merged (304, 105) -> 305, new length: 53\n",
      "INFO:simple_bpe:Merge 50: (304, 105) -> 305, sequence length: 53\n",
      "DEBUG:simple_bpe:Most common pair: ((305, 268), 1)\n",
      "DEBUG:simple_bpe:Merged (305, 268) -> 306, new length: 52\n",
      "INFO:simple_bpe:Merge 51: (305, 268) -> 306, sequence length: 52\n",
      "DEBUG:simple_bpe:Most common pair: ((306, 109), 1)\n",
      "DEBUG:simple_bpe:Merged (306, 109) -> 307, new length: 51\n",
      "INFO:simple_bpe:Merge 52: (306, 109) -> 307, sequence length: 51\n",
      "DEBUG:simple_bpe:Most common pair: ((307, 46), 1)\n",
      "DEBUG:simple_bpe:Merged (307, 46) -> 308, new length: 50\n",
      "INFO:simple_bpe:Merge 53: (307, 46) -> 308, sequence length: 50\n",
      "DEBUG:simple_bpe:Most common pair: ((308, 271), 1)\n",
      "DEBUG:simple_bpe:Merged (308, 271) -> 309, new length: 49\n",
      "INFO:simple_bpe:Merge 54: (308, 271) -> 309, sequence length: 49\n",
      "DEBUG:simple_bpe:Most common pair: ((309, 111), 1)\n",
      "DEBUG:simple_bpe:Merged (309, 111) -> 310, new length: 48\n",
      "INFO:simple_bpe:Merge 55: (309, 111) -> 310, sequence length: 48\n",
      "DEBUG:simple_bpe:Most common pair: ((310, 102), 1)\n",
      "DEBUG:simple_bpe:Merged (310, 102) -> 311, new length: 47\n",
      "INFO:simple_bpe:Merge 56: (310, 102) -> 311, sequence length: 47\n",
      "DEBUG:simple_bpe:Most common pair: ((311, 260), 1)\n",
      "DEBUG:simple_bpe:Merged (311, 260) -> 312, new length: 46\n",
      "INFO:simple_bpe:Merge 57: (311, 260) -> 312, sequence length: 46\n",
      "DEBUG:simple_bpe:Most common pair: ((312, 117), 1)\n",
      "DEBUG:simple_bpe:Merged (312, 117) -> 313, new length: 45\n",
      "INFO:simple_bpe:Merge 58: (312, 117) -> 313, sequence length: 45\n",
      "DEBUG:simple_bpe:Most common pair: ((313, 114), 1)\n",
      "DEBUG:simple_bpe:Merged (313, 114) -> 314, new length: 44\n",
      "INFO:simple_bpe:Merge 59: (313, 114) -> 314, sequence length: 44\n",
      "DEBUG:simple_bpe:Most common pair: ((314, 115), 1)\n",
      "DEBUG:simple_bpe:Merged (314, 115) -> 315, new length: 43\n",
      "INFO:simple_bpe:Merge 60: (314, 115) -> 315, sequence length: 43\n",
      "DEBUG:simple_bpe:Most common pair: ((315, 256), 1)\n",
      "DEBUG:simple_bpe:Merged (315, 256) -> 316, new length: 42\n",
      "INFO:simple_bpe:Merge 61: (315, 256) -> 316, sequence length: 42\n",
      "DEBUG:simple_bpe:Most common pair: ((316, 105), 1)\n",
      "DEBUG:simple_bpe:Merged (316, 105) -> 317, new length: 41\n",
      "INFO:simple_bpe:Merge 62: (316, 105) -> 317, sequence length: 41\n",
      "DEBUG:simple_bpe:Most common pair: ((317, 265), 1)\n",
      "DEBUG:simple_bpe:Merged (317, 265) -> 318, new length: 40\n",
      "INFO:simple_bpe:Merge 63: (317, 265) -> 318, sequence length: 40\n",
      "DEBUG:simple_bpe:Most common pair: ((318, 260), 1)\n",
      "DEBUG:simple_bpe:Merged (318, 260) -> 319, new length: 39\n",
      "INFO:simple_bpe:Merge 64: (318, 260) -> 319, sequence length: 39\n",
      "DEBUG:simple_bpe:Most common pair: ((319, 110), 1)\n",
      "DEBUG:simple_bpe:Merged (319, 110) -> 320, new length: 38\n",
      "INFO:simple_bpe:Merge 65: (319, 110) -> 320, sequence length: 38\n",
      "DEBUG:simple_bpe:Most common pair: ((320, 116), 1)\n",
      "DEBUG:simple_bpe:Merged (320, 116) -> 321, new length: 37\n",
      "INFO:simple_bpe:Merge 66: (320, 116) -> 321, sequence length: 37\n",
      "DEBUG:simple_bpe:Most common pair: ((321, 97), 1)\n",
      "DEBUG:simple_bpe:Merged (321, 97) -> 322, new length: 36\n",
      "INFO:simple_bpe:Merge 67: (321, 97) -> 322, sequence length: 36\n",
      "DEBUG:simple_bpe:Most common pair: ((322, 267), 1)\n",
      "DEBUG:simple_bpe:Merged (322, 267) -> 323, new length: 35\n",
      "INFO:simple_bpe:Merge 68: (322, 267) -> 323, sequence length: 35\n",
      "DEBUG:simple_bpe:Most common pair: ((323, 257), 1)\n",
      "DEBUG:simple_bpe:Merged (323, 257) -> 324, new length: 34\n",
      "INFO:simple_bpe:Merge 69: (323, 257) -> 324, sequence length: 34\n",
      "DEBUG:simple_bpe:Most common pair: ((324, 272), 1)\n",
      "DEBUG:simple_bpe:Merged (324, 272) -> 325, new length: 33\n",
      "INFO:simple_bpe:Merge 70: (324, 272) -> 325, sequence length: 33\n",
      "DEBUG:simple_bpe:Most common pair: ((325, 114), 1)\n",
      "DEBUG:simple_bpe:Merged (325, 114) -> 326, new length: 32\n",
      "INFO:simple_bpe:Merge 71: (325, 114) -> 326, sequence length: 32\n",
      "DEBUG:simple_bpe:Most common pair: ((326, 256), 1)\n",
      "DEBUG:simple_bpe:Merged (326, 256) -> 327, new length: 31\n",
      "INFO:simple_bpe:Merge 72: (326, 256) -> 327, sequence length: 31\n",
      "DEBUG:simple_bpe:Most common pair: ((327, 117), 1)\n",
      "DEBUG:simple_bpe:Merged (327, 117) -> 328, new length: 30\n",
      "INFO:simple_bpe:Merge 73: (327, 117) -> 328, sequence length: 30\n",
      "DEBUG:simple_bpe:Most common pair: ((328, 110), 1)\n",
      "DEBUG:simple_bpe:Merged (328, 110) -> 329, new length: 29\n",
      "INFO:simple_bpe:Merge 74: (328, 110) -> 329, sequence length: 29\n",
      "DEBUG:simple_bpe:Most common pair: ((329, 105), 1)\n",
      "DEBUG:simple_bpe:Merged (329, 105) -> 330, new length: 28\n",
      "INFO:simple_bpe:Merge 75: (329, 105) -> 330, sequence length: 28\n",
      "DEBUG:simple_bpe:Most common pair: ((330, 260), 1)\n",
      "DEBUG:simple_bpe:Merged (330, 260) -> 331, new length: 27\n",
      "INFO:simple_bpe:Merge 76: (330, 260) -> 331, sequence length: 27\n",
      "DEBUG:simple_bpe:Most common pair: ((331, 100), 1)\n",
      "DEBUG:simple_bpe:Merged (331, 100) -> 332, new length: 26\n",
      "INFO:simple_bpe:Merge 77: (331, 100) -> 332, sequence length: 26\n",
      "DEBUG:simple_bpe:Most common pair: ((332, 256), 1)\n",
      "DEBUG:simple_bpe:Merged (332, 256) -> 333, new length: 25\n",
      "INFO:simple_bpe:Merge 78: (332, 256) -> 333, sequence length: 25\n",
      "DEBUG:simple_bpe:Most common pair: ((333, 99), 1)\n",
      "DEBUG:simple_bpe:Merged (333, 99) -> 334, new length: 24\n",
      "INFO:simple_bpe:Merge 79: (333, 99) -> 334, sequence length: 24\n",
      "DEBUG:simple_bpe:Most common pair: ((334, 104), 1)\n",
      "DEBUG:simple_bpe:Merged (334, 104) -> 335, new length: 23\n",
      "INFO:simple_bpe:Merge 80: (334, 104) -> 335, sequence length: 23\n",
      "DEBUG:simple_bpe:Most common pair: ((335, 97), 1)\n",
      "DEBUG:simple_bpe:Merged (335, 97) -> 336, new length: 22\n",
      "INFO:simple_bpe:Merge 81: (335, 97) -> 336, sequence length: 22\n",
      "DEBUG:simple_bpe:Most common pair: ((336, 272), 1)\n",
      "DEBUG:simple_bpe:Merged (336, 272) -> 337, new length: 21\n",
      "INFO:simple_bpe:Merge 82: (336, 272) -> 337, sequence length: 21\n",
      "DEBUG:simple_bpe:Most common pair: ((337, 99), 1)\n",
      "DEBUG:simple_bpe:Merged (337, 99) -> 338, new length: 20\n",
      "INFO:simple_bpe:Merge 83: (337, 99) -> 338, sequence length: 20\n",
      "DEBUG:simple_bpe:Most common pair: ((338, 258), 1)\n",
      "DEBUG:simple_bpe:Merged (338, 258) -> 339, new length: 19\n",
      "INFO:simple_bpe:Merge 84: (338, 258) -> 339, sequence length: 19\n",
      "DEBUG:simple_bpe:Most common pair: ((339, 114), 1)\n",
      "DEBUG:simple_bpe:Merged (339, 114) -> 340, new length: 18\n",
      "INFO:simple_bpe:Merge 85: (339, 114) -> 340, sequence length: 18\n",
      "DEBUG:simple_bpe:Most common pair: ((340, 257), 1)\n",
      "DEBUG:simple_bpe:Merged (340, 257) -> 341, new length: 17\n",
      "INFO:simple_bpe:Merge 86: (340, 257) -> 341, sequence length: 17\n",
      "DEBUG:simple_bpe:Most common pair: ((341, 108), 1)\n",
      "DEBUG:simple_bpe:Merged (341, 108) -> 342, new length: 16\n",
      "INFO:simple_bpe:Merge 87: (341, 108) -> 342, sequence length: 16\n",
      "DEBUG:simple_bpe:Most common pair: ((342, 105), 1)\n",
      "DEBUG:simple_bpe:Merged (342, 105) -> 343, new length: 15\n",
      "INFO:simple_bpe:Merge 88: (342, 105) -> 343, sequence length: 15\n",
      "DEBUG:simple_bpe:Most common pair: ((343, 107), 1)\n",
      "DEBUG:simple_bpe:Merged (343, 107) -> 344, new length: 14\n",
      "INFO:simple_bpe:Merge 89: (343, 107) -> 344, sequence length: 14\n",
      "DEBUG:simple_bpe:Most common pair: ((344, 256), 1)\n",
      "DEBUG:simple_bpe:Merged (344, 256) -> 345, new length: 13\n",
      "INFO:simple_bpe:Merge 90: (344, 256) -> 345, sequence length: 13\n",
      "DEBUG:simple_bpe:Most common pair: ((345, 240), 1)\n",
      "DEBUG:simple_bpe:Merged (345, 240) -> 346, new length: 12\n",
      "INFO:simple_bpe:Merge 91: (345, 240) -> 346, sequence length: 12\n",
      "DEBUG:simple_bpe:Most common pair: ((346, 159), 1)\n",
      "DEBUG:simple_bpe:Merged (346, 159) -> 347, new length: 11\n",
      "INFO:simple_bpe:Merge 92: (346, 159) -> 347, sequence length: 11\n",
      "DEBUG:simple_bpe:Most common pair: ((347, 164), 1)\n",
      "DEBUG:simple_bpe:Merged (347, 164) -> 348, new length: 10\n",
      "INFO:simple_bpe:Merge 93: (347, 164) -> 348, sequence length: 10\n",
      "DEBUG:simple_bpe:Most common pair: ((348, 161), 1)\n",
      "DEBUG:simple_bpe:Merged (348, 161) -> 349, new length: 9\n",
      "INFO:simple_bpe:Merge 94: (348, 161) -> 349, sequence length: 9\n",
      "DEBUG:simple_bpe:Most common pair: ((349, 271), 1)\n",
      "DEBUG:simple_bpe:Merged (349, 271) -> 350, new length: 8\n",
      "INFO:simple_bpe:Merge 95: (349, 271) -> 350, sequence length: 8\n",
      "DEBUG:simple_bpe:Most common pair: ((350, 46), 1)\n",
      "DEBUG:simple_bpe:Merged (350, 46) -> 351, new length: 7\n",
      "INFO:simple_bpe:Merge 96: (350, 46) -> 351, sequence length: 7\n",
      "DEBUG:simple_bpe:Most common pair: ((351, 46), 1)\n",
      "DEBUG:simple_bpe:Merged (351, 46) -> 352, new length: 6\n",
      "INFO:simple_bpe:Merge 97: (351, 46) -> 352, sequence length: 6\n",
      "DEBUG:simple_bpe:Most common pair: ((352, 32), 1)\n",
      "DEBUG:simple_bpe:Merged (352, 32) -> 353, new length: 5\n",
      "INFO:simple_bpe:Merge 98: (352, 32) -> 353, sequence length: 5\n",
      "DEBUG:simple_bpe:Most common pair: ((353, 63), 1)\n",
      "DEBUG:simple_bpe:Merged (353, 63) -> 354, new length: 4\n",
      "INFO:simple_bpe:Merge 99: (353, 63) -> 354, sequence length: 4\n",
      "DEBUG:simple_bpe:Most common pair: ((354, 32), 1)\n",
      "DEBUG:simple_bpe:Merged (354, 32) -> 355, new length: 3\n",
      "INFO:simple_bpe:Merge 100: (354, 32) -> 355, sequence length: 3\n"
     ]
    }
   ],
   "source": [
    "byte_tokens, merges = learn_bpe(sample_text, num_merges=100)"
   ]
  },
  {
   "cell_type": "code",
   "execution_count": 29,
   "metadata": {},
   "outputs": [
    {
     "data": {
      "text/plain": [
       "[355, 203, 154]"
      ]
     },
     "execution_count": 29,
     "metadata": {},
     "output_type": "execute_result"
    }
   ],
   "source": [
    "byte_tokens"
   ]
  },
  {
   "cell_type": "code",
   "execution_count": 30,
   "metadata": {},
   "outputs": [
    {
     "data": {
      "text/plain": [
       "[((101, 32), 256),\n",
       " ((115, 32), 257),\n",
       " ((116, 101), 258),\n",
       " ((32, 97), 259),\n",
       " ((99, 111), 260),\n",
       " ((105, 257), 261),\n",
       " ((109, 112), 262),\n",
       " ((262, 108), 263),\n",
       " ((263, 256), 264),\n",
       " ((116, 32), 265),\n",
       " ((111, 114), 266),\n",
       " ((105, 110), 267),\n",
       " ((116, 104), 268),\n",
       " ((259, 110), 269),\n",
       " ((269, 100), 270),\n",
       " ((270, 32), 271),\n",
       " ((114, 97), 272),\n",
       " ((84, 104), 273),\n",
       " ((273, 261), 274),\n",
       " ((274, 261), 275),\n",
       " ((275, 97), 276),\n",
       " ((276, 32), 277),\n",
       " ((277, 115), 278),\n",
       " ((278, 97), 279),\n",
       " ((279, 264), 280),\n",
       " ((280, 258), 281),\n",
       " ((281, 120), 282),\n",
       " ((282, 265), 283),\n",
       " ((283, 102), 284),\n",
       " ((284, 266), 285),\n",
       " ((285, 32), 286),\n",
       " ((286, 258), 287),\n",
       " ((287, 115), 288),\n",
       " ((288, 116), 289),\n",
       " ((289, 267), 290),\n",
       " ((290, 103), 291),\n",
       " ((291, 32), 292),\n",
       " ((292, 268), 293),\n",
       " ((293, 256), 294),\n",
       " ((294, 115), 295),\n",
       " ((295, 105), 296),\n",
       " ((296, 264), 297),\n",
       " ((297, 66), 298),\n",
       " ((298, 80), 299),\n",
       " ((299, 69), 300),\n",
       " ((300, 259), 301),\n",
       " ((301, 108), 302),\n",
       " ((302, 103), 303),\n",
       " ((303, 266), 304),\n",
       " ((304, 105), 305),\n",
       " ((305, 268), 306),\n",
       " ((306, 109), 307),\n",
       " ((307, 46), 308),\n",
       " ((308, 271), 309),\n",
       " ((309, 111), 310),\n",
       " ((310, 102), 311),\n",
       " ((311, 260), 312),\n",
       " ((312, 117), 313),\n",
       " ((313, 114), 314),\n",
       " ((314, 115), 315),\n",
       " ((315, 256), 316),\n",
       " ((316, 105), 317),\n",
       " ((317, 265), 318),\n",
       " ((318, 260), 319),\n",
       " ((319, 110), 320),\n",
       " ((320, 116), 321),\n",
       " ((321, 97), 322),\n",
       " ((322, 267), 323),\n",
       " ((323, 257), 324),\n",
       " ((324, 272), 325),\n",
       " ((325, 114), 326),\n",
       " ((326, 256), 327),\n",
       " ((327, 117), 328),\n",
       " ((328, 110), 329),\n",
       " ((329, 105), 330),\n",
       " ((330, 260), 331),\n",
       " ((331, 100), 332),\n",
       " ((332, 256), 333),\n",
       " ((333, 99), 334),\n",
       " ((334, 104), 335),\n",
       " ((335, 97), 336),\n",
       " ((336, 272), 337),\n",
       " ((337, 99), 338),\n",
       " ((338, 258), 339),\n",
       " ((339, 114), 340),\n",
       " ((340, 257), 341),\n",
       " ((341, 108), 342),\n",
       " ((342, 105), 343),\n",
       " ((343, 107), 344),\n",
       " ((344, 256), 345),\n",
       " ((345, 240), 346),\n",
       " ((346, 159), 347),\n",
       " ((347, 164), 348),\n",
       " ((348, 161), 349),\n",
       " ((349, 271), 350),\n",
       " ((350, 46), 351),\n",
       " ((351, 46), 352),\n",
       " ((352, 32), 353),\n",
       " ((353, 63), 354),\n",
       " ((354, 32), 355)]"
      ]
     },
     "execution_count": 30,
     "metadata": {},
     "output_type": "execute_result"
    }
   ],
   "source": [
    "merges"
   ]
  },
  {
   "cell_type": "code",
   "execution_count": 47,
   "metadata": {},
   "outputs": [
    {
     "name": "stderr",
     "output_type": "stream",
     "text": [
      "DEBUG:simple_bpe:Applying 100 merges to text of length 92\n",
      "DEBUG:simple_bpe:Encoded text length: 92 -> 113 bytes\n",
      "DEBUG:simple_bpe:Merged (101, 32) -> 256, new length: 111\n",
      "DEBUG:simple_bpe:Merged (115, 32) -> 257, new length: 108\n",
      "DEBUG:simple_bpe:Merged (116, 101) -> 258, new length: 106\n",
      "DEBUG:simple_bpe:Merged (32, 97) -> 259, new length: 106\n",
      "DEBUG:simple_bpe:Merged (99, 111) -> 260, new length: 104\n",
      "DEBUG:simple_bpe:Merged (105, 257) -> 261, new length: 102\n",
      "DEBUG:simple_bpe:Merged (109, 112) -> 262, new length: 102\n",
      "DEBUG:simple_bpe:Merged (262, 108) -> 263, new length: 102\n"
     ]
    },
    {
     "name": "stderr",
     "output_type": "stream",
     "text": [
      "DEBUG:simple_bpe:Merged (263, 256) -> 264, new length: 102\n",
      "DEBUG:simple_bpe:Merged (116, 32) -> 265, new length: 101\n",
      "DEBUG:simple_bpe:Merged (111, 114) -> 266, new length: 101\n",
      "DEBUG:simple_bpe:Merged (105, 110) -> 267, new length: 99\n",
      "DEBUG:simple_bpe:Merged (116, 104) -> 268, new length: 98\n",
      "DEBUG:simple_bpe:Merged (259, 110) -> 269, new length: 98\n",
      "DEBUG:simple_bpe:Merged (269, 100) -> 270, new length: 98\n",
      "DEBUG:simple_bpe:Merged (270, 32) -> 271, new length: 98\n",
      "DEBUG:simple_bpe:Merged (114, 97) -> 272, new length: 98\n",
      "DEBUG:simple_bpe:Merged (84, 104) -> 273, new length: 98\n",
      "DEBUG:simple_bpe:Merged (273, 261) -> 274, new length: 98\n",
      "DEBUG:simple_bpe:Merged (274, 261) -> 275, new length: 98\n",
      "DEBUG:simple_bpe:Merged (275, 97) -> 276, new length: 98\n",
      "DEBUG:simple_bpe:Merged (276, 32) -> 277, new length: 98\n",
      "DEBUG:simple_bpe:Merged (277, 115) -> 278, new length: 98\n",
      "DEBUG:simple_bpe:Merged (278, 97) -> 279, new length: 98\n",
      "DEBUG:simple_bpe:Merged (279, 264) -> 280, new length: 98\n",
      "DEBUG:simple_bpe:Merged (280, 258) -> 281, new length: 98\n",
      "DEBUG:simple_bpe:Merged (281, 120) -> 282, new length: 98\n",
      "DEBUG:simple_bpe:Merged (282, 265) -> 283, new length: 98\n",
      "DEBUG:simple_bpe:Merged (283, 102) -> 284, new length: 98\n",
      "DEBUG:simple_bpe:Merged (284, 266) -> 285, new length: 98\n",
      "DEBUG:simple_bpe:Merged (285, 32) -> 286, new length: 98\n",
      "DEBUG:simple_bpe:Merged (286, 258) -> 287, new length: 98\n",
      "DEBUG:simple_bpe:Merged (287, 115) -> 288, new length: 98\n",
      "DEBUG:simple_bpe:Merged (288, 116) -> 289, new length: 98\n",
      "DEBUG:simple_bpe:Merged (289, 267) -> 290, new length: 98\n",
      "DEBUG:simple_bpe:Merged (290, 103) -> 291, new length: 98\n",
      "DEBUG:simple_bpe:Merged (291, 32) -> 292, new length: 98\n",
      "DEBUG:simple_bpe:Merged (292, 268) -> 293, new length: 98\n",
      "DEBUG:simple_bpe:Merged (293, 256) -> 294, new length: 98\n",
      "DEBUG:simple_bpe:Merged (294, 115) -> 295, new length: 98\n",
      "DEBUG:simple_bpe:Merged (295, 105) -> 296, new length: 98\n",
      "DEBUG:simple_bpe:Merged (296, 264) -> 297, new length: 98\n",
      "DEBUG:simple_bpe:Merged (297, 66) -> 298, new length: 98\n",
      "DEBUG:simple_bpe:Merged (298, 80) -> 299, new length: 98\n",
      "DEBUG:simple_bpe:Merged (299, 69) -> 300, new length: 98\n",
      "DEBUG:simple_bpe:Merged (300, 259) -> 301, new length: 98\n",
      "DEBUG:simple_bpe:Merged (301, 108) -> 302, new length: 98\n",
      "DEBUG:simple_bpe:Merged (302, 103) -> 303, new length: 98\n",
      "DEBUG:simple_bpe:Merged (303, 266) -> 304, new length: 98\n",
      "DEBUG:simple_bpe:Merged (304, 105) -> 305, new length: 98\n",
      "DEBUG:simple_bpe:Merged (305, 268) -> 306, new length: 98\n",
      "DEBUG:simple_bpe:Merged (306, 109) -> 307, new length: 98\n",
      "DEBUG:simple_bpe:Merged (307, 46) -> 308, new length: 98\n",
      "DEBUG:simple_bpe:Merged (308, 271) -> 309, new length: 98\n",
      "DEBUG:simple_bpe:Merged (309, 111) -> 310, new length: 98\n",
      "DEBUG:simple_bpe:Merged (310, 102) -> 311, new length: 98\n",
      "DEBUG:simple_bpe:Merged (311, 260) -> 312, new length: 98\n",
      "DEBUG:simple_bpe:Merged (312, 117) -> 313, new length: 98\n",
      "DEBUG:simple_bpe:Merged (313, 114) -> 314, new length: 98\n",
      "DEBUG:simple_bpe:Merged (314, 115) -> 315, new length: 98\n",
      "DEBUG:simple_bpe:Merged (315, 256) -> 316, new length: 98\n",
      "DEBUG:simple_bpe:Merged (316, 105) -> 317, new length: 98\n",
      "DEBUG:simple_bpe:Merged (317, 265) -> 318, new length: 98\n",
      "DEBUG:simple_bpe:Merged (318, 260) -> 319, new length: 98\n",
      "DEBUG:simple_bpe:Merged (319, 110) -> 320, new length: 98\n",
      "DEBUG:simple_bpe:Merged (320, 116) -> 321, new length: 98\n",
      "DEBUG:simple_bpe:Merged (321, 97) -> 322, new length: 98\n",
      "DEBUG:simple_bpe:Merged (322, 267) -> 323, new length: 98\n",
      "DEBUG:simple_bpe:Merged (323, 257) -> 324, new length: 98\n",
      "DEBUG:simple_bpe:Merged (324, 272) -> 325, new length: 98\n",
      "DEBUG:simple_bpe:Merged (325, 114) -> 326, new length: 98\n",
      "DEBUG:simple_bpe:Merged (326, 256) -> 327, new length: 98\n",
      "DEBUG:simple_bpe:Merged (327, 117) -> 328, new length: 98\n",
      "DEBUG:simple_bpe:Merged (328, 110) -> 329, new length: 98\n",
      "DEBUG:simple_bpe:Merged (329, 105) -> 330, new length: 98\n",
      "DEBUG:simple_bpe:Merged (330, 260) -> 331, new length: 98\n",
      "DEBUG:simple_bpe:Merged (331, 100) -> 332, new length: 98\n",
      "DEBUG:simple_bpe:Merged (332, 256) -> 333, new length: 98\n",
      "DEBUG:simple_bpe:Merged (333, 99) -> 334, new length: 98\n",
      "DEBUG:simple_bpe:Merged (334, 104) -> 335, new length: 98\n",
      "DEBUG:simple_bpe:Merged (335, 97) -> 336, new length: 98\n",
      "DEBUG:simple_bpe:Merged (336, 272) -> 337, new length: 98\n",
      "DEBUG:simple_bpe:Merged (337, 99) -> 338, new length: 98\n",
      "DEBUG:simple_bpe:Merged (338, 258) -> 339, new length: 98\n",
      "DEBUG:simple_bpe:Merged (339, 114) -> 340, new length: 98\n",
      "DEBUG:simple_bpe:Merged (340, 257) -> 341, new length: 98\n",
      "DEBUG:simple_bpe:Merged (341, 108) -> 342, new length: 98\n",
      "DEBUG:simple_bpe:Merged (342, 105) -> 343, new length: 98\n",
      "DEBUG:simple_bpe:Merged (343, 107) -> 344, new length: 98\n",
      "DEBUG:simple_bpe:Merged (344, 256) -> 345, new length: 98\n",
      "DEBUG:simple_bpe:Merged (345, 240) -> 346, new length: 98\n",
      "DEBUG:simple_bpe:Merged (346, 159) -> 347, new length: 98\n",
      "DEBUG:simple_bpe:Merged (347, 164) -> 348, new length: 98\n",
      "DEBUG:simple_bpe:Merged (348, 161) -> 349, new length: 98\n",
      "DEBUG:simple_bpe:Merged (349, 271) -> 350, new length: 98\n",
      "DEBUG:simple_bpe:Merged (350, 46) -> 351, new length: 98\n",
      "DEBUG:simple_bpe:Merged (351, 46) -> 352, new length: 98\n",
      "DEBUG:simple_bpe:Merged (352, 32) -> 353, new length: 98\n",
      "DEBUG:simple_bpe:Merged (353, 63) -> 354, new length: 98\n",
      "DEBUG:simple_bpe:Merged (354, 32) -> 355, new length: 98\n",
      "DEBUG:simple_bpe:Final token sequence length: 98\n"
     ]
    },
    {
     "name": "stdout",
     "output_type": "stream",
     "text": [
      "[268, 261, 261, 97, 32, 118, 101, 114, 121, 32, 109, 101, 115, 115, 121, 32, 117, 110, 105, 260, 100, 256, 258, 120, 265, 260, 110, 116, 97, 267, 267, 103, 32, 119, 101, 105, 114, 100, 32, 99, 104, 97, 114, 99, 258, 114, 257, 108, 105, 107, 256, 32, 32, 32, 46, 46, 32, 240, 159, 164, 161, 32, 63, 32, 195, 159, 32, 194, 180, 194, 180, 226, 128, 160, 194, 160, 226, 137, 136, 226, 136, 154, 194, 160, 194, 165, 226, 128, 160, 194, 169, 198, 146, 194, 169, 198, 146, 32]\n",
      "98\n"
     ]
    }
   ],
   "source": [
    "input_text = 'this is a very messy unicode text containing weird charcters like    .. 🤡 ? ß ´´† ≈√ ¥†©ƒ©ƒ '\n",
    "input_tokens = tokenize(input_text, merges)\n",
    "print(input_tokens)\n",
    "print(len(input_tokens))"
   ]
  },
  {
   "cell_type": "code",
   "execution_count": 48,
   "metadata": {},
   "outputs": [
    {
     "name": "stderr",
     "output_type": "stream",
     "text": [
      "DEBUG:simple_bpe:Encoded text length: 92 -> 113 bytes\n"
     ]
    },
    {
     "data": {
      "text/plain": [
       "113"
      ]
     },
     "execution_count": 48,
     "metadata": {},
     "output_type": "execute_result"
    }
   ],
   "source": [
    "len(encode_text(input_text))"
   ]
  },
  {
   "cell_type": "code",
   "execution_count": 49,
   "metadata": {},
   "outputs": [
    {
     "name": "stderr",
     "output_type": "stream",
     "text": [
      "DEBUG:simple_bpe:Decoding token sequence of length 98\n",
      "DEBUG:simple_bpe:Successfully decoded to text of length 92\n"
     ]
    },
    {
     "data": {
      "text/plain": [
       "'this is a very messy unicode text containing weird charcters like    .. 🤡 ? ß ´´†\\xa0≈√\\xa0¥†©ƒ©ƒ '"
      ]
     },
     "execution_count": 49,
     "metadata": {},
     "output_type": "execute_result"
    }
   ],
   "source": [
    "decode_tokens(input_tokens, merges)"
   ]
  }
 ],
 "metadata": {
  "kernelspec": {
   "display_name": "dev_base",
   "language": "python",
   "name": "python3"
  },
  "language_info": {
   "codemirror_mode": {
    "name": "ipython",
    "version": 3
   },
   "file_extension": ".py",
   "mimetype": "text/x-python",
   "name": "python",
   "nbconvert_exporter": "python",
   "pygments_lexer": "ipython3",
   "version": "3.11.5"
  }
 },
 "nbformat": 4,
 "nbformat_minor": 2
}
